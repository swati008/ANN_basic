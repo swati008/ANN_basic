{
 "cells": [
  {
   "cell_type": "markdown",
   "metadata": {},
   "source": [
    "# Basic Prediction Code "
   ]
  },
  {
   "cell_type": "code",
   "execution_count": 2,
   "metadata": {},
   "outputs": [
    {
     "name": "stdout",
     "output_type": "stream",
     "text": [
      "[[2. 9.]\n",
      " [1. 5.]\n",
      " [3. 6.]]\n",
      "[[92.]\n",
      " [86.]\n",
      " [89.]]\n",
      "[[0.06993189 0.81053904 0.91735321]\n",
      " [0.22411612 0.61548841 0.80166258]]\n",
      "[[0.59520159]\n",
      " [0.33653677]\n",
      " [0.54714391]]\n",
      "Predicted output\n",
      "[[80.4842858 ]\n",
      " [79.07417234]\n",
      " [79.80316274]]\n",
      "Actual Output \n",
      "[[92.]\n",
      " [86.]\n",
      " [89.]]\n"
     ]
    }
   ],
   "source": [
    "     import numpy as np\n",
    "X= np.array(([2,9],[1,5],[3,6]), dtype=float)\n",
    "y= np.array(([92],[86],[89]), dtype=float)\n",
    "print(X)\n",
    "print(y)\n",
    "    #x=X.np.amax(X,axis=0)\n",
    "    #y=y/100;      #max marks in 100\n",
    "\n",
    "class Neural_Network(object):\n",
    "        def __init__(self):\n",
    "            self.inputsize=2\n",
    "            self.outputsize=1\n",
    "            self.hiddensize=3\n",
    "            self.W1=np.random.rand(self.inputsize,self.hiddensize)\n",
    "            self.W2=np.random.rand(self.hiddensize,self.outputsize)\n",
    "            print(self.W1) \n",
    "            print(self.W2)\n",
    "            \n",
    "        def forward(self,X):\n",
    "         #forward propagation\n",
    "            self.z=np.dot(X,self.W1)\n",
    "            self.z1=self.sigmoid(self.z)\n",
    "            self.z2=np.dot(self.z1,self.W2)\n",
    "            o=self.sigmoid(self.z2)\n",
    "            return o*100    #had to multiply by 100\n",
    "\n",
    "        def sigmoid(self,s):\n",
    "            return 1/(1+np.exp(-s))\n",
    "\n",
    "        \n",
    "NN=Neural_Network()\n",
    "o=NN.forward(X)\n",
    "\n",
    "print(\"Predicted output\\n\" +str(o))\n",
    "print(\"Actual Output \\n\" + str(y))"
   ]
  }
 ],
 "metadata": {
  "kernelspec": {
   "display_name": "Python 3",
   "language": "python",
   "name": "python3"
  },
  "language_info": {
   "codemirror_mode": {
    "name": "ipython",
    "version": 3
   },
   "file_extension": ".py",
   "mimetype": "text/x-python",
   "name": "python",
   "nbconvert_exporter": "python",
   "pygments_lexer": "ipython3",
   "version": "3.6.5"
  }
 },
 "nbformat": 4,
 "nbformat_minor": 2
}
